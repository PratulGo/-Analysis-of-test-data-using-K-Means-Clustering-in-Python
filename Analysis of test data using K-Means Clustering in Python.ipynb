{
 "cells": [
  {
   "cell_type": "markdown",
   "metadata": {},
   "source": [
    "# Analysis of test data using K-Means Clustering in Python"
   ]
  },
  {
   "cell_type": "code",
   "execution_count": 5,
   "metadata": {},
   "outputs": [
    {
     "data": {
      "image/png": "[encoded data removed]",
      "text/plain": [
       "<Figure size 432x288 with 1 Axes>"
      ]
     },
     "metadata": {
      "needs_background": "light"
     },
     "output_type": "display_data"
    }
   ],
   "source": [
    "# importing required tools \n",
    "import numpy as np\n",
    "import cv2\n",
    "from matplotlib import pyplot as plt \n",
    "\n",
    "# creating two test data \n",
    "X = np.random.randint(10,35,(25,2)) \n",
    "Y = np.random.randint(55,70,(25,2)) \n",
    "Z = np.vstack((X,Y)) \n",
    "Z = Z.reshape((50,2)) \n",
    "\n",
    "# convert to np.float32 \n",
    "Z = np.float32(Z) \n",
    "\n",
    "plt.xlabel('Test Data') \n",
    "plt.ylabel('Z samples') \n",
    "\n",
    "plt.hist(Z,256,[0,256]) \n",
    "\n",
    "plt.show()"
   ]
  },
  {
   "cell_type": "code",
   "execution_count": 19,
   "metadata": {},
   "outputs": [
    {
     "data": {
      "image/png": "[encoded data removed]",
      "text/plain": [
       "<Figure size 432x288 with 1 Axes>"
      ]
     },
     "metadata": {
      "needs_background": "light"
     },
     "output_type": "display_data"
    }
   ],
   "source": [
    "import numpy as np \n",
    "import cv2 \n",
    "from matplotlib import pyplot as plt \n",
    "\n",
    "X = np.random.randint(10,45,(25,2)) \n",
    "Y = np.random.randint(55,70,(25,2)) \n",
    "Z = np.vstack((X,Y)) \n",
    "\n",
    "# convert to np.float32 \n",
    "Z = np.float32(Z) \n",
    "\n",
    "# define criteria and apply kmeans() \n",
    "criteria = (cv2.TERM_CRITERIA_EPS + cv2.TERM_CRITERIA_MAX_ITER, 10, 1.0) \n",
    "ret,label,center = cv2.kmeans(Z,2,None,criteria,10,cv2.KMEANS_RANDOM_CENTERS) \n",
    "\n",
    "# Now separate the data \n",
    "A = Z[label.ravel()==0] \n",
    "B = Z[label.ravel()==1] \n",
    "\n",
    "# Plot the data \n",
    "plt.scatter(A[:,0],A[:,1]) \n",
    "plt.scatter(B[:,0],B[:,1],c = 'b') \n",
    "plt.scatter(center[:,0],center[:,1],s = 80,c = 'r', marker = 'o') \n",
    "plt.xlabel('Test Data'),plt.ylabel('Z samples') \n",
    "plt.show() "
   ]
  }
 ],
 "metadata": {
  "kernelspec": {
   "display_name": "Python 3",
   "language": "python",
   "name": "python3"
  },
  "language_info": {
   "codemirror_mode": {
    "name": "ipython",
    "version": 3
   },
   "file_extension": ".py",
   "mimetype": "text/x-python",
   "name": "python",
   "nbconvert_exporter": "python",
   "pygments_lexer": "ipython3",
   "version": "3.7.1"
  }
 },
 "nbformat": 4,
 "nbformat_minor": 2
}
